{
 "cells": [
  {
   "cell_type": "raw",
   "id": "5551cb69",
   "metadata": {},
   "source": [
    "import sys\n",
    "sys.path.append(\"..\")"
   ]
  },
  {
   "cell_type": "code",
   "execution_count": 8,
   "id": "cb9b7fa2",
   "metadata": {},
   "outputs": [],
   "source": [
    "from opendbm.tests import TestClass"
   ]
  },
  {
   "cell_type": "code",
   "execution_count": 2,
   "id": "ecabb380",
   "metadata": {},
   "outputs": [
    {
     "data": {
      "text/plain": [
       "'/Users/Jon/Developer/workspace/tbi/opendbm/aicure_opendbm/nbs'"
      ]
     },
     "execution_count": 2,
     "metadata": {},
     "output_type": "execute_result"
    }
   ],
   "source": []
  },
  {
   "cell_type": "code",
   "execution_count": null,
   "id": "eca0f170",
   "metadata": {},
   "outputs": [],
   "source": [
    "from opendbm.facial import Speech"
   ]
  },
  {
   "cell_type": "markdown",
   "id": "32eb7679",
   "metadata": {},
   "source": [
    "### Without Pipeline"
   ]
  },
  {
   "cell_type": "code",
   "execution_count": null,
   "id": "716f286c",
   "metadata": {},
   "outputs": [],
   "source": [
    "# gives warning that the model required isn't downloaded yet\n",
    "# Requires internet\n",
    "model = Speech()"
   ]
  },
  {
   "cell_type": "code",
   "execution_count": null,
   "id": "e4b0b134",
   "metadata": {},
   "outputs": [],
   "source": [
    "loader = DataLoader(input_p, output_p)"
   ]
  },
  {
   "cell_type": "code",
   "execution_count": null,
   "id": "5c38ef68",
   "metadata": {},
   "outputs": [],
   "source": [
    "model.transform(loader)"
   ]
  },
  {
   "cell_type": "markdown",
   "id": "2b4e7301",
   "metadata": {},
   "source": [
    "### Using Pipeline"
   ]
  },
  {
   "cell_type": "code",
   "execution_count": null,
   "id": "cea6139d",
   "metadata": {},
   "outputs": [],
   "source": [
    "# Typical pipe"
   ]
  },
  {
   "cell_type": "code",
   "execution_count": null,
   "id": "51b68f79",
   "metadata": {},
   "outputs": [],
   "source": [
    "pipeline = Pipeline(loader, model)\n",
    "pipeline.run()"
   ]
  },
  {
   "cell_type": "code",
   "execution_count": null,
   "id": "a1065049",
   "metadata": {},
   "outputs": [],
   "source": [
    "loader = DataLoader(input_p, output_p)"
   ]
  },
  {
   "cell_type": "code",
   "execution_count": null,
   "id": "63a0ffc3",
   "metadata": {},
   "outputs": [],
   "source": [
    "loader.convert()"
   ]
  },
  {
   "cell_type": "code",
   "execution_count": null,
   "id": "a1727522",
   "metadata": {},
   "outputs": [],
   "source": [
    "loader.preprocess()"
   ]
  },
  {
   "cell_type": "code",
   "execution_count": null,
   "id": "3901b814",
   "metadata": {},
   "outputs": [],
   "source": [
    "model.process()"
   ]
  },
  {
   "cell_type": "code",
   "execution_count": null,
   "id": "63be430c",
   "metadata": {},
   "outputs": [],
   "source": [
    "loader.remove()"
   ]
  }
 ],
 "metadata": {
  "kernelspec": {
   "display_name": "Python 3",
   "language": "python",
   "name": "python3"
  },
  "language_info": {
   "codemirror_mode": {
    "name": "ipython",
    "version": 3
   },
   "file_extension": ".py",
   "mimetype": "text/x-python",
   "name": "python",
   "nbconvert_exporter": "python",
   "pygments_lexer": "ipython3",
   "version": "3.6.13"
  }
 },
 "nbformat": 4,
 "nbformat_minor": 5
}
