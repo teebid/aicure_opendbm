{
 "cells": [
  {
   "cell_type": "code",
   "execution_count": 1,
   "id": "da419b7a",
   "metadata": {
    "scrolled": false
   },
   "outputs": [],
   "source": [
    "import sys\n",
    "sys.path.append('../')"
   ]
  },
  {
   "cell_type": "code",
   "execution_count": 2,
   "id": "91a8605e",
   "metadata": {},
   "outputs": [],
   "source": [
    "path1 = \"/Users/Jon/Developer/workspace/tbi/opendbm/open_dbm/sample_data/subj02_timepoint01.mp4\"\n",
    "path2 = \"/Users/Jon/Developer/workspace/tbi/opendbm/open_dbm/sample_data/subj02_timepoint01.wav\"\n",
    "path3 = \"/Users/Jon/Developer/workspace/tbi/opendbm/open_dbm/sample_data/subj01_timepoint02.wav\""
   ]
  },
  {
   "cell_type": "code",
   "execution_count": null,
   "id": "6a8f5bbc",
   "metadata": {},
   "outputs": [],
   "source": []
  },
  {
   "cell_type": "code",
   "execution_count": 3,
   "id": "7920b9bb",
   "metadata": {},
   "outputs": [],
   "source": [
    "path1 = \"../sample_data/opendbmfacialtest_v1.mp4\"\n",
    "path2 = f\"{path1[:-4]}.wav\""
   ]
  },
  {
   "cell_type": "code",
   "execution_count": 4,
   "id": "6930d234",
   "metadata": {},
   "outputs": [
    {
     "name": "stderr",
     "output_type": "stream",
     "text": [
      "WARNING:py.warnings:../dbm_lib/config/config_reader.py:26: YAMLLoadWarning: calling yaml.load() without Loader=... is deprecated, as the default Loader is unsafe. Please read https://msg.pyyaml.org/load for full details.\n",
      "  config = yaml.load(ymlfile)\n",
      "\n",
      "WARNING:py.warnings:../dbm_lib/config/config_raw_feature.py:27: YAMLLoadWarning: calling yaml.load() without Loader=... is deprecated, as the default Loader is unsafe. Please read https://msg.pyyaml.org/load for full details.\n",
      "  config = yaml.load(ymlfile)\n",
      "\n",
      "WARNING:py.warnings:../dbm_lib/config/config_derive_feature.py:27: YAMLLoadWarning: calling yaml.load() without Loader=... is deprecated, as the default Loader is unsafe. Please read https://msg.pyyaml.org/load for full details.\n",
      "  config = yaml.load(ymlfile)\n",
      "\n",
      "INFO:root:Converting stereo sound to mono-lD\n"
     ]
    }
   ],
   "source": [
    "from opendbm.verbal_accoustics import VerbalAccoustics\n",
    "m = VerbalAccoustics()\n",
    "m.fit(path2)"
   ]
  },
  {
   "cell_type": "code",
   "execution_count": 5,
   "id": "9210e7a3",
   "metadata": {},
   "outputs": [
    {
     "data": {
      "text/html": [
       "<div>\n",
       "<style scoped>\n",
       "    .dataframe tbody tr th:only-of-type {\n",
       "        vertical-align: middle;\n",
       "    }\n",
       "\n",
       "    .dataframe tbody tr th {\n",
       "        vertical-align: top;\n",
       "    }\n",
       "\n",
       "    .dataframe thead th {\n",
       "        text-align: right;\n",
       "    }\n",
       "</style>\n",
       "<table border=\"1\" class=\"dataframe\">\n",
       "  <thead>\n",
       "    <tr style=\"text-align: right;\">\n",
       "      <th></th>\n",
       "      <th>aco_int</th>\n",
       "      <th>Frames</th>\n",
       "      <th>dbm_master_url</th>\n",
       "      <th>error_reason</th>\n",
       "    </tr>\n",
       "  </thead>\n",
       "  <tbody>\n",
       "    <tr>\n",
       "      <th>0</th>\n",
       "      <td>6.085870</td>\n",
       "      <td>0</td>\n",
       "      <td>../sample_data/opendbmfacialtest_v1.wav</td>\n",
       "      <td>Pass</td>\n",
       "    </tr>\n",
       "    <tr>\n",
       "      <th>1</th>\n",
       "      <td>8.661065</td>\n",
       "      <td>1</td>\n",
       "      <td>../sample_data/opendbmfacialtest_v1.wav</td>\n",
       "      <td>Pass</td>\n",
       "    </tr>\n",
       "    <tr>\n",
       "      <th>2</th>\n",
       "      <td>11.588540</td>\n",
       "      <td>2</td>\n",
       "      <td>../sample_data/opendbmfacialtest_v1.wav</td>\n",
       "      <td>Pass</td>\n",
       "    </tr>\n",
       "    <tr>\n",
       "      <th>3</th>\n",
       "      <td>15.652601</td>\n",
       "      <td>3</td>\n",
       "      <td>../sample_data/opendbmfacialtest_v1.wav</td>\n",
       "      <td>Pass</td>\n",
       "    </tr>\n",
       "    <tr>\n",
       "      <th>4</th>\n",
       "      <td>18.861861</td>\n",
       "      <td>4</td>\n",
       "      <td>../sample_data/opendbmfacialtest_v1.wav</td>\n",
       "      <td>Pass</td>\n",
       "    </tr>\n",
       "    <tr>\n",
       "      <th>...</th>\n",
       "      <td>...</td>\n",
       "      <td>...</td>\n",
       "      <td>...</td>\n",
       "      <td>...</td>\n",
       "    </tr>\n",
       "    <tr>\n",
       "      <th>87910</th>\n",
       "      <td>-24.134457</td>\n",
       "      <td>87910</td>\n",
       "      <td>../sample_data/opendbmfacialtest_v1.wav</td>\n",
       "      <td>Pass</td>\n",
       "    </tr>\n",
       "    <tr>\n",
       "      <th>87911</th>\n",
       "      <td>-23.487538</td>\n",
       "      <td>87911</td>\n",
       "      <td>../sample_data/opendbmfacialtest_v1.wav</td>\n",
       "      <td>Pass</td>\n",
       "    </tr>\n",
       "    <tr>\n",
       "      <th>87912</th>\n",
       "      <td>-26.215761</td>\n",
       "      <td>87912</td>\n",
       "      <td>../sample_data/opendbmfacialtest_v1.wav</td>\n",
       "      <td>Pass</td>\n",
       "    </tr>\n",
       "    <tr>\n",
       "      <th>87913</th>\n",
       "      <td>-28.931727</td>\n",
       "      <td>87913</td>\n",
       "      <td>../sample_data/opendbmfacialtest_v1.wav</td>\n",
       "      <td>Pass</td>\n",
       "    </tr>\n",
       "    <tr>\n",
       "      <th>87914</th>\n",
       "      <td>-31.134230</td>\n",
       "      <td>87914</td>\n",
       "      <td>../sample_data/opendbmfacialtest_v1.wav</td>\n",
       "      <td>Pass</td>\n",
       "    </tr>\n",
       "  </tbody>\n",
       "</table>\n",
       "<p>87915 rows × 4 columns</p>\n",
       "</div>"
      ],
      "text/plain": [
       "         aco_int  Frames                           dbm_master_url error_reason\n",
       "0       6.085870       0  ../sample_data/opendbmfacialtest_v1.wav         Pass\n",
       "1       8.661065       1  ../sample_data/opendbmfacialtest_v1.wav         Pass\n",
       "2      11.588540       2  ../sample_data/opendbmfacialtest_v1.wav         Pass\n",
       "3      15.652601       3  ../sample_data/opendbmfacialtest_v1.wav         Pass\n",
       "4      18.861861       4  ../sample_data/opendbmfacialtest_v1.wav         Pass\n",
       "...          ...     ...                                      ...          ...\n",
       "87910 -24.134457   87910  ../sample_data/opendbmfacialtest_v1.wav         Pass\n",
       "87911 -23.487538   87911  ../sample_data/opendbmfacialtest_v1.wav         Pass\n",
       "87912 -26.215761   87912  ../sample_data/opendbmfacialtest_v1.wav         Pass\n",
       "87913 -28.931727   87913  ../sample_data/opendbmfacialtest_v1.wav         Pass\n",
       "87914 -31.134230   87914  ../sample_data/opendbmfacialtest_v1.wav         Pass\n",
       "\n",
       "[87915 rows x 4 columns]"
      ]
     },
     "execution_count": 5,
     "metadata": {},
     "output_type": "execute_result"
    }
   ],
   "source": [
    "au = m.get_audio_intensity()\n",
    "au.to_dataframe()"
   ]
  },
  {
   "cell_type": "code",
   "execution_count": 5,
   "id": "eec9423a",
   "metadata": {},
   "outputs": [
    {
     "data": {
      "text/plain": [
       "aco_int    51.94788\n",
       "dtype: float64"
      ]
     },
     "execution_count": 5,
     "metadata": {},
     "output_type": "execute_result"
    }
   ],
   "source": [
    "au.mean()"
   ]
  },
  {
   "cell_type": "code",
   "execution_count": 6,
   "id": "4c4fb80b",
   "metadata": {},
   "outputs": [
    {
     "data": {
      "text/plain": [
       "aco_int    7.004789\n",
       "dtype: float64"
      ]
     },
     "execution_count": 6,
     "metadata": {},
     "output_type": "execute_result"
    }
   ],
   "source": [
    "au.std()"
   ]
  },
  {
   "cell_type": "code",
   "execution_count": 7,
   "id": "c03983db",
   "metadata": {},
   "outputs": [
    {
     "data": {
      "text/html": [
       "<div>\n",
       "<style scoped>\n",
       "    .dataframe tbody tr th:only-of-type {\n",
       "        vertical-align: middle;\n",
       "    }\n",
       "\n",
       "    .dataframe tbody tr th {\n",
       "        vertical-align: top;\n",
       "    }\n",
       "\n",
       "    .dataframe thead th {\n",
       "        text-align: right;\n",
       "    }\n",
       "</style>\n",
       "<table border=\"1\" class=\"dataframe\">\n",
       "  <thead>\n",
       "    <tr style=\"text-align: right;\">\n",
       "      <th></th>\n",
       "      <th>aco_voiceframe</th>\n",
       "      <th>aco_totvoiceframe</th>\n",
       "      <th>aco_voicepct</th>\n",
       "      <th>error_reason</th>\n",
       "      <th>Frames</th>\n",
       "      <th>dbm_master_url</th>\n",
       "    </tr>\n",
       "  </thead>\n",
       "  <tbody>\n",
       "    <tr>\n",
       "      <th>0</th>\n",
       "      <td>79</td>\n",
       "      <td>496</td>\n",
       "      <td>15.927419</td>\n",
       "      <td>Pass</td>\n",
       "      <td>0</td>\n",
       "      <td>/Users/Jon/Developer/workspace/tbi/opendbm/ope...</td>\n",
       "    </tr>\n",
       "  </tbody>\n",
       "</table>\n",
       "</div>"
      ],
      "text/plain": [
       "   aco_voiceframe  aco_totvoiceframe  aco_voicepct error_reason  Frames  \\\n",
       "0              79                496     15.927419         Pass       0   \n",
       "\n",
       "                                      dbm_master_url  \n",
       "0  /Users/Jon/Developer/workspace/tbi/opendbm/ope...  "
      ]
     },
     "execution_count": 7,
     "metadata": {},
     "output_type": "execute_result"
    }
   ],
   "source": [
    "vp  = m.get_voice_prevalence()\n",
    "vp.to_dataframe()"
   ]
  },
  {
   "cell_type": "code",
   "execution_count": 8,
   "id": "054c0d45",
   "metadata": {},
   "outputs": [
    {
     "data": {
      "text/plain": [
       "aco_voiceframe        79.000000\n",
       "aco_totvoiceframe    496.000000\n",
       "aco_voicepct          15.927419\n",
       "dtype: float64"
      ]
     },
     "execution_count": 8,
     "metadata": {},
     "output_type": "execute_result"
    }
   ],
   "source": [
    "vp.mean()"
   ]
  },
  {
   "cell_type": "code",
   "execution_count": 9,
   "id": "e2047f30",
   "metadata": {},
   "outputs": [
    {
     "data": {
      "text/plain": [
       "aco_voiceframe      NaN\n",
       "aco_totvoiceframe   NaN\n",
       "aco_voicepct        NaN\n",
       "dtype: float64"
      ]
     },
     "execution_count": 9,
     "metadata": {},
     "output_type": "execute_result"
    }
   ],
   "source": [
    "vp.std()"
   ]
  },
  {
   "cell_type": "code",
   "execution_count": 10,
   "id": "b339edd1",
   "metadata": {},
   "outputs": [
    {
     "data": {
      "text/html": [
       "<div>\n",
       "<style scoped>\n",
       "    .dataframe tbody tr th:only-of-type {\n",
       "        vertical-align: middle;\n",
       "    }\n",
       "\n",
       "    .dataframe tbody tr th {\n",
       "        vertical-align: top;\n",
       "    }\n",
       "\n",
       "    .dataframe thead th {\n",
       "        text-align: right;\n",
       "    }\n",
       "</style>\n",
       "<table border=\"1\" class=\"dataframe\">\n",
       "  <thead>\n",
       "    <tr style=\"text-align: right;\">\n",
       "      <th></th>\n",
       "      <th>aco_totaltime</th>\n",
       "      <th>aco_speakingtime</th>\n",
       "      <th>aco_numpauses</th>\n",
       "      <th>aco_pausetime</th>\n",
       "      <th>aco_pausefrac</th>\n",
       "      <th>error_reason</th>\n",
       "      <th>dbm_master_url</th>\n",
       "    </tr>\n",
       "  </thead>\n",
       "  <tbody>\n",
       "    <tr>\n",
       "      <th>0</th>\n",
       "      <td>2.9</td>\n",
       "      <td>2.12</td>\n",
       "      <td>1</td>\n",
       "      <td>0.78</td>\n",
       "      <td>0.268966</td>\n",
       "      <td>Pass</td>\n",
       "      <td>/Users/Jon/Developer/workspace/tbi/opendbm/ope...</td>\n",
       "    </tr>\n",
       "  </tbody>\n",
       "</table>\n",
       "</div>"
      ],
      "text/plain": [
       "   aco_totaltime  aco_speakingtime  aco_numpauses  aco_pausetime  \\\n",
       "0            2.9              2.12              1           0.78   \n",
       "\n",
       "   aco_pausefrac error_reason  \\\n",
       "0       0.268966         Pass   \n",
       "\n",
       "                                      dbm_master_url  \n",
       "0  /Users/Jon/Developer/workspace/tbi/opendbm/ope...  "
      ]
     },
     "execution_count": 10,
     "metadata": {},
     "output_type": "execute_result"
    }
   ],
   "source": [
    "pr  = m.get_pause_characteristics()\n",
    "pr.to_dataframe()"
   ]
  },
  {
   "cell_type": "code",
   "execution_count": 11,
   "id": "9fa23fed",
   "metadata": {},
   "outputs": [
    {
     "data": {
      "text/plain": [
       "aco_totaltime       2.900000\n",
       "aco_speakingtime    2.120000\n",
       "aco_numpauses       1.000000\n",
       "aco_pausetime       0.780000\n",
       "aco_pausefrac       0.268966\n",
       "dtype: float64"
      ]
     },
     "execution_count": 11,
     "metadata": {},
     "output_type": "execute_result"
    }
   ],
   "source": [
    "pr.mean()"
   ]
  },
  {
   "cell_type": "code",
   "execution_count": 12,
   "id": "f4538e10",
   "metadata": {},
   "outputs": [
    {
     "data": {
      "text/plain": [
       "aco_totaltime      NaN\n",
       "aco_speakingtime   NaN\n",
       "aco_numpauses      NaN\n",
       "aco_pausetime      NaN\n",
       "aco_pausefrac      NaN\n",
       "dtype: float64"
      ]
     },
     "execution_count": 12,
     "metadata": {},
     "output_type": "execute_result"
    }
   ],
   "source": [
    "pr.std()"
   ]
  },
  {
   "cell_type": "code",
   "execution_count": 16,
   "id": "376177ff",
   "metadata": {},
   "outputs": [
    {
     "data": {
      "text/html": [
       "<div>\n",
       "<style scoped>\n",
       "    .dataframe tbody tr th:only-of-type {\n",
       "        vertical-align: middle;\n",
       "    }\n",
       "\n",
       "    .dataframe tbody tr th {\n",
       "        vertical-align: top;\n",
       "    }\n",
       "\n",
       "    .dataframe thead th {\n",
       "        text-align: right;\n",
       "    }\n",
       "</style>\n",
       "<table border=\"1\" class=\"dataframe\">\n",
       "  <thead>\n",
       "    <tr style=\"text-align: right;\">\n",
       "      <th></th>\n",
       "      <th>aco_shimmer</th>\n",
       "      <th>error_reason</th>\n",
       "      <th>Frames</th>\n",
       "      <th>dbm_master_url</th>\n",
       "    </tr>\n",
       "  </thead>\n",
       "  <tbody>\n",
       "    <tr>\n",
       "      <th>0</th>\n",
       "      <td>NaN</td>\n",
       "      <td>Pass</td>\n",
       "      <td>0</td>\n",
       "      <td>../sample_data/opendbmfacialtest_v1.wav</td>\n",
       "    </tr>\n",
       "    <tr>\n",
       "      <th>1</th>\n",
       "      <td>NaN</td>\n",
       "      <td>Pass</td>\n",
       "      <td>1</td>\n",
       "      <td>../sample_data/opendbmfacialtest_v1.wav</td>\n",
       "    </tr>\n",
       "    <tr>\n",
       "      <th>2</th>\n",
       "      <td>NaN</td>\n",
       "      <td>Pass</td>\n",
       "      <td>2</td>\n",
       "      <td>../sample_data/opendbmfacialtest_v1.wav</td>\n",
       "    </tr>\n",
       "    <tr>\n",
       "      <th>3</th>\n",
       "      <td>0.223868</td>\n",
       "      <td>Pass</td>\n",
       "      <td>3</td>\n",
       "      <td>../sample_data/opendbmfacialtest_v1.wav</td>\n",
       "    </tr>\n",
       "    <tr>\n",
       "      <th>4</th>\n",
       "      <td>NaN</td>\n",
       "      <td>Pass</td>\n",
       "      <td>4</td>\n",
       "      <td>../sample_data/opendbmfacialtest_v1.wav</td>\n",
       "    </tr>\n",
       "    <tr>\n",
       "      <th>...</th>\n",
       "      <td>...</td>\n",
       "      <td>...</td>\n",
       "      <td>...</td>\n",
       "      <td>...</td>\n",
       "    </tr>\n",
       "    <tr>\n",
       "      <th>206</th>\n",
       "      <td>NaN</td>\n",
       "      <td>Pass</td>\n",
       "      <td>206</td>\n",
       "      <td>../sample_data/opendbmfacialtest_v1.wav</td>\n",
       "    </tr>\n",
       "    <tr>\n",
       "      <th>207</th>\n",
       "      <td>NaN</td>\n",
       "      <td>Pass</td>\n",
       "      <td>207</td>\n",
       "      <td>../sample_data/opendbmfacialtest_v1.wav</td>\n",
       "    </tr>\n",
       "    <tr>\n",
       "      <th>208</th>\n",
       "      <td>NaN</td>\n",
       "      <td>Pass</td>\n",
       "      <td>208</td>\n",
       "      <td>../sample_data/opendbmfacialtest_v1.wav</td>\n",
       "    </tr>\n",
       "    <tr>\n",
       "      <th>209</th>\n",
       "      <td>NaN</td>\n",
       "      <td>Pass</td>\n",
       "      <td>209</td>\n",
       "      <td>../sample_data/opendbmfacialtest_v1.wav</td>\n",
       "    </tr>\n",
       "    <tr>\n",
       "      <th>210</th>\n",
       "      <td>NaN</td>\n",
       "      <td>Pass</td>\n",
       "      <td>210</td>\n",
       "      <td>../sample_data/opendbmfacialtest_v1.wav</td>\n",
       "    </tr>\n",
       "  </tbody>\n",
       "</table>\n",
       "<p>211 rows × 4 columns</p>\n",
       "</div>"
      ],
      "text/plain": [
       "     aco_shimmer error_reason  Frames                           dbm_master_url\n",
       "0            NaN         Pass       0  ../sample_data/opendbmfacialtest_v1.wav\n",
       "1            NaN         Pass       1  ../sample_data/opendbmfacialtest_v1.wav\n",
       "2            NaN         Pass       2  ../sample_data/opendbmfacialtest_v1.wav\n",
       "3       0.223868         Pass       3  ../sample_data/opendbmfacialtest_v1.wav\n",
       "4            NaN         Pass       4  ../sample_data/opendbmfacialtest_v1.wav\n",
       "..           ...          ...     ...                                      ...\n",
       "206          NaN         Pass     206  ../sample_data/opendbmfacialtest_v1.wav\n",
       "207          NaN         Pass     207  ../sample_data/opendbmfacialtest_v1.wav\n",
       "208          NaN         Pass     208  ../sample_data/opendbmfacialtest_v1.wav\n",
       "209          NaN         Pass     209  ../sample_data/opendbmfacialtest_v1.wav\n",
       "210          NaN         Pass     210  ../sample_data/opendbmfacialtest_v1.wav\n",
       "\n",
       "[211 rows x 4 columns]"
      ]
     },
     "execution_count": 16,
     "metadata": {},
     "output_type": "execute_result"
    }
   ],
   "source": [
    "sh  = m.get_shimmer()\n",
    "sh.to_dataframe()"
   ]
  },
  {
   "cell_type": "code",
   "execution_count": 17,
   "id": "5220069d",
   "metadata": {},
   "outputs": [
    {
     "data": {
      "text/plain": [
       "0.20187218917114955"
      ]
     },
     "execution_count": 17,
     "metadata": {},
     "output_type": "execute_result"
    }
   ],
   "source": [
    "sh.mean().item()"
   ]
  },
  {
   "cell_type": "code",
   "execution_count": 20,
   "id": "949434ab",
   "metadata": {},
   "outputs": [
    {
     "data": {
      "text/plain": [
       "0.058466862916901764"
      ]
     },
     "execution_count": 20,
     "metadata": {},
     "output_type": "execute_result"
    }
   ],
   "source": [
    "sh.std().item()"
   ]
  },
  {
   "cell_type": "code",
   "execution_count": 19,
   "id": "c08a2731",
   "metadata": {},
   "outputs": [
    {
     "data": {
      "text/html": [
       "<div>\n",
       "<style scoped>\n",
       "    .dataframe tbody tr th:only-of-type {\n",
       "        vertical-align: middle;\n",
       "    }\n",
       "\n",
       "    .dataframe tbody tr th {\n",
       "        vertical-align: top;\n",
       "    }\n",
       "\n",
       "    .dataframe thead th {\n",
       "        text-align: right;\n",
       "    }\n",
       "</style>\n",
       "<table border=\"1\" class=\"dataframe\">\n",
       "  <thead>\n",
       "    <tr style=\"text-align: right;\">\n",
       "      <th></th>\n",
       "      <th>aco_jitter</th>\n",
       "      <th>error_reason</th>\n",
       "      <th>Frames</th>\n",
       "      <th>dbm_master_url</th>\n",
       "    </tr>\n",
       "  </thead>\n",
       "  <tbody>\n",
       "    <tr>\n",
       "      <th>0</th>\n",
       "      <td>NaN</td>\n",
       "      <td>Pass</td>\n",
       "      <td>0</td>\n",
       "      <td>../sample_data/opendbmfacialtest_v1.wav</td>\n",
       "    </tr>\n",
       "    <tr>\n",
       "      <th>1</th>\n",
       "      <td>NaN</td>\n",
       "      <td>Pass</td>\n",
       "      <td>1</td>\n",
       "      <td>../sample_data/opendbmfacialtest_v1.wav</td>\n",
       "    </tr>\n",
       "    <tr>\n",
       "      <th>2</th>\n",
       "      <td>NaN</td>\n",
       "      <td>Pass</td>\n",
       "      <td>2</td>\n",
       "      <td>../sample_data/opendbmfacialtest_v1.wav</td>\n",
       "    </tr>\n",
       "    <tr>\n",
       "      <th>3</th>\n",
       "      <td>0.052060</td>\n",
       "      <td>Pass</td>\n",
       "      <td>3</td>\n",
       "      <td>../sample_data/opendbmfacialtest_v1.wav</td>\n",
       "    </tr>\n",
       "    <tr>\n",
       "      <th>4</th>\n",
       "      <td>NaN</td>\n",
       "      <td>Pass</td>\n",
       "      <td>4</td>\n",
       "      <td>../sample_data/opendbmfacialtest_v1.wav</td>\n",
       "    </tr>\n",
       "    <tr>\n",
       "      <th>...</th>\n",
       "      <td>...</td>\n",
       "      <td>...</td>\n",
       "      <td>...</td>\n",
       "      <td>...</td>\n",
       "    </tr>\n",
       "    <tr>\n",
       "      <th>206</th>\n",
       "      <td>NaN</td>\n",
       "      <td>Pass</td>\n",
       "      <td>206</td>\n",
       "      <td>../sample_data/opendbmfacialtest_v1.wav</td>\n",
       "    </tr>\n",
       "    <tr>\n",
       "      <th>207</th>\n",
       "      <td>0.026022</td>\n",
       "      <td>Pass</td>\n",
       "      <td>207</td>\n",
       "      <td>../sample_data/opendbmfacialtest_v1.wav</td>\n",
       "    </tr>\n",
       "    <tr>\n",
       "      <th>208</th>\n",
       "      <td>NaN</td>\n",
       "      <td>Pass</td>\n",
       "      <td>208</td>\n",
       "      <td>../sample_data/opendbmfacialtest_v1.wav</td>\n",
       "    </tr>\n",
       "    <tr>\n",
       "      <th>209</th>\n",
       "      <td>NaN</td>\n",
       "      <td>Pass</td>\n",
       "      <td>209</td>\n",
       "      <td>../sample_data/opendbmfacialtest_v1.wav</td>\n",
       "    </tr>\n",
       "    <tr>\n",
       "      <th>210</th>\n",
       "      <td>NaN</td>\n",
       "      <td>Pass</td>\n",
       "      <td>210</td>\n",
       "      <td>../sample_data/opendbmfacialtest_v1.wav</td>\n",
       "    </tr>\n",
       "  </tbody>\n",
       "</table>\n",
       "<p>211 rows × 4 columns</p>\n",
       "</div>"
      ],
      "text/plain": [
       "     aco_jitter error_reason  Frames                           dbm_master_url\n",
       "0           NaN         Pass       0  ../sample_data/opendbmfacialtest_v1.wav\n",
       "1           NaN         Pass       1  ../sample_data/opendbmfacialtest_v1.wav\n",
       "2           NaN         Pass       2  ../sample_data/opendbmfacialtest_v1.wav\n",
       "3      0.052060         Pass       3  ../sample_data/opendbmfacialtest_v1.wav\n",
       "4           NaN         Pass       4  ../sample_data/opendbmfacialtest_v1.wav\n",
       "..          ...          ...     ...                                      ...\n",
       "206         NaN         Pass     206  ../sample_data/opendbmfacialtest_v1.wav\n",
       "207    0.026022         Pass     207  ../sample_data/opendbmfacialtest_v1.wav\n",
       "208         NaN         Pass     208  ../sample_data/opendbmfacialtest_v1.wav\n",
       "209         NaN         Pass     209  ../sample_data/opendbmfacialtest_v1.wav\n",
       "210         NaN         Pass     210  ../sample_data/opendbmfacialtest_v1.wav\n",
       "\n",
       "[211 rows x 4 columns]"
      ]
     },
     "execution_count": 19,
     "metadata": {},
     "output_type": "execute_result"
    }
   ],
   "source": [
    "jtt  = m.get_jitter()\n",
    "jtt.to_dataframe()"
   ]
  },
  {
   "cell_type": "code",
   "execution_count": 9,
   "id": "763b4144",
   "metadata": {},
   "outputs": [
    {
     "data": {
      "text/plain": [
       "0.04140350698268413"
      ]
     },
     "execution_count": 9,
     "metadata": {},
     "output_type": "execute_result"
    }
   ],
   "source": [
    "jtt.mean().item()"
   ]
  },
  {
   "cell_type": "code",
   "execution_count": 10,
   "id": "94ecc00e",
   "metadata": {},
   "outputs": [
    {
     "data": {
      "text/plain": [
       "0.026209854417972963"
      ]
     },
     "execution_count": 10,
     "metadata": {},
     "output_type": "execute_result"
    }
   ],
   "source": [
    "jtt.std().item()"
   ]
  },
  {
   "cell_type": "code",
   "execution_count": 11,
   "id": "469b39a6",
   "metadata": {},
   "outputs": [
    {
     "data": {
      "text/html": [
       "<div>\n",
       "<style scoped>\n",
       "    .dataframe tbody tr th:only-of-type {\n",
       "        vertical-align: middle;\n",
       "    }\n",
       "\n",
       "    .dataframe tbody tr th {\n",
       "        vertical-align: top;\n",
       "    }\n",
       "\n",
       "    .dataframe thead th {\n",
       "        text-align: right;\n",
       "    }\n",
       "</style>\n",
       "<table border=\"1\" class=\"dataframe\">\n",
       "  <thead>\n",
       "    <tr style=\"text-align: right;\">\n",
       "      <th></th>\n",
       "      <th>aco_gne</th>\n",
       "      <th>error_reason</th>\n",
       "      <th>Frames</th>\n",
       "      <th>dbm_master_url</th>\n",
       "    </tr>\n",
       "  </thead>\n",
       "  <tbody>\n",
       "    <tr>\n",
       "      <th>0</th>\n",
       "      <td>NaN</td>\n",
       "      <td>Pass</td>\n",
       "      <td>0</td>\n",
       "      <td>../sample_data/opendbmfacialtest_v1.wav</td>\n",
       "    </tr>\n",
       "    <tr>\n",
       "      <th>1</th>\n",
       "      <td>0.859992</td>\n",
       "      <td>Pass</td>\n",
       "      <td>1</td>\n",
       "      <td>../sample_data/opendbmfacialtest_v1.wav</td>\n",
       "    </tr>\n",
       "    <tr>\n",
       "      <th>2</th>\n",
       "      <td>NaN</td>\n",
       "      <td>Pass</td>\n",
       "      <td>2</td>\n",
       "      <td>../sample_data/opendbmfacialtest_v1.wav</td>\n",
       "    </tr>\n",
       "    <tr>\n",
       "      <th>3</th>\n",
       "      <td>0.794469</td>\n",
       "      <td>Pass</td>\n",
       "      <td>3</td>\n",
       "      <td>../sample_data/opendbmfacialtest_v1.wav</td>\n",
       "    </tr>\n",
       "    <tr>\n",
       "      <th>4</th>\n",
       "      <td>NaN</td>\n",
       "      <td>Pass</td>\n",
       "      <td>4</td>\n",
       "      <td>../sample_data/opendbmfacialtest_v1.wav</td>\n",
       "    </tr>\n",
       "    <tr>\n",
       "      <th>...</th>\n",
       "      <td>...</td>\n",
       "      <td>...</td>\n",
       "      <td>...</td>\n",
       "      <td>...</td>\n",
       "    </tr>\n",
       "    <tr>\n",
       "      <th>206</th>\n",
       "      <td>NaN</td>\n",
       "      <td>Pass</td>\n",
       "      <td>206</td>\n",
       "      <td>../sample_data/opendbmfacialtest_v1.wav</td>\n",
       "    </tr>\n",
       "    <tr>\n",
       "      <th>207</th>\n",
       "      <td>0.949382</td>\n",
       "      <td>Pass</td>\n",
       "      <td>207</td>\n",
       "      <td>../sample_data/opendbmfacialtest_v1.wav</td>\n",
       "    </tr>\n",
       "    <tr>\n",
       "      <th>208</th>\n",
       "      <td>NaN</td>\n",
       "      <td>Pass</td>\n",
       "      <td>208</td>\n",
       "      <td>../sample_data/opendbmfacialtest_v1.wav</td>\n",
       "    </tr>\n",
       "    <tr>\n",
       "      <th>209</th>\n",
       "      <td>0.937612</td>\n",
       "      <td>Pass</td>\n",
       "      <td>209</td>\n",
       "      <td>../sample_data/opendbmfacialtest_v1.wav</td>\n",
       "    </tr>\n",
       "    <tr>\n",
       "      <th>210</th>\n",
       "      <td>NaN</td>\n",
       "      <td>Pass</td>\n",
       "      <td>210</td>\n",
       "      <td>../sample_data/opendbmfacialtest_v1.wav</td>\n",
       "    </tr>\n",
       "  </tbody>\n",
       "</table>\n",
       "<p>211 rows × 4 columns</p>\n",
       "</div>"
      ],
      "text/plain": [
       "      aco_gne error_reason  Frames                           dbm_master_url\n",
       "0         NaN         Pass       0  ../sample_data/opendbmfacialtest_v1.wav\n",
       "1    0.859992         Pass       1  ../sample_data/opendbmfacialtest_v1.wav\n",
       "2         NaN         Pass       2  ../sample_data/opendbmfacialtest_v1.wav\n",
       "3    0.794469         Pass       3  ../sample_data/opendbmfacialtest_v1.wav\n",
       "4         NaN         Pass       4  ../sample_data/opendbmfacialtest_v1.wav\n",
       "..        ...          ...     ...                                      ...\n",
       "206       NaN         Pass     206  ../sample_data/opendbmfacialtest_v1.wav\n",
       "207  0.949382         Pass     207  ../sample_data/opendbmfacialtest_v1.wav\n",
       "208       NaN         Pass     208  ../sample_data/opendbmfacialtest_v1.wav\n",
       "209  0.937612         Pass     209  ../sample_data/opendbmfacialtest_v1.wav\n",
       "210       NaN         Pass     210  ../sample_data/opendbmfacialtest_v1.wav\n",
       "\n",
       "[211 rows x 4 columns]"
      ]
     },
     "execution_count": 11,
     "metadata": {},
     "output_type": "execute_result"
    }
   ],
   "source": [
    "gne  = m.get_glottal_noise()\n",
    "gne.to_dataframe()"
   ]
  },
  {
   "cell_type": "code",
   "execution_count": 14,
   "id": "ddfed317",
   "metadata": {},
   "outputs": [
    {
     "data": {
      "text/plain": [
       "0.8628717796229132"
      ]
     },
     "execution_count": 14,
     "metadata": {},
     "output_type": "execute_result"
    }
   ],
   "source": [
    "gne.mean().item()"
   ]
  },
  {
   "cell_type": "code",
   "execution_count": 15,
   "id": "a3994a1a",
   "metadata": {},
   "outputs": [
    {
     "data": {
      "text/plain": [
       "0.10651690189910552"
      ]
     },
     "execution_count": 15,
     "metadata": {},
     "output_type": "execute_result"
    }
   ],
   "source": [
    "gne.std().item()"
   ]
  },
  {
   "cell_type": "code",
   "execution_count": 22,
   "id": "f5208e56",
   "metadata": {},
   "outputs": [
    {
     "data": {
      "text/html": [
       "<div>\n",
       "<style scoped>\n",
       "    .dataframe tbody tr th:only-of-type {\n",
       "        vertical-align: middle;\n",
       "    }\n",
       "\n",
       "    .dataframe tbody tr th {\n",
       "        vertical-align: top;\n",
       "    }\n",
       "\n",
       "    .dataframe thead th {\n",
       "        text-align: right;\n",
       "    }\n",
       "</style>\n",
       "<table border=\"1\" class=\"dataframe\">\n",
       "  <thead>\n",
       "    <tr style=\"text-align: right;\">\n",
       "      <th></th>\n",
       "      <th>aco_hnr</th>\n",
       "      <th>Frames</th>\n",
       "      <th>dbm_master_url</th>\n",
       "      <th>error_reason</th>\n",
       "    </tr>\n",
       "  </thead>\n",
       "  <tbody>\n",
       "    <tr>\n",
       "      <th>0</th>\n",
       "      <td>NaN</td>\n",
       "      <td>0</td>\n",
       "      <td>/Users/Jon/Developer/workspace/tbi/opendbm/ope...</td>\n",
       "      <td>Pass</td>\n",
       "    </tr>\n",
       "    <tr>\n",
       "      <th>1</th>\n",
       "      <td>NaN</td>\n",
       "      <td>1</td>\n",
       "      <td>/Users/Jon/Developer/workspace/tbi/opendbm/ope...</td>\n",
       "      <td>Pass</td>\n",
       "    </tr>\n",
       "    <tr>\n",
       "      <th>2</th>\n",
       "      <td>NaN</td>\n",
       "      <td>2</td>\n",
       "      <td>/Users/Jon/Developer/workspace/tbi/opendbm/ope...</td>\n",
       "      <td>Pass</td>\n",
       "    </tr>\n",
       "    <tr>\n",
       "      <th>3</th>\n",
       "      <td>NaN</td>\n",
       "      <td>3</td>\n",
       "      <td>/Users/Jon/Developer/workspace/tbi/opendbm/ope...</td>\n",
       "      <td>Pass</td>\n",
       "    </tr>\n",
       "    <tr>\n",
       "      <th>4</th>\n",
       "      <td>NaN</td>\n",
       "      <td>4</td>\n",
       "      <td>/Users/Jon/Developer/workspace/tbi/opendbm/ope...</td>\n",
       "      <td>Pass</td>\n",
       "    </tr>\n",
       "    <tr>\n",
       "      <th>...</th>\n",
       "      <td>...</td>\n",
       "      <td>...</td>\n",
       "      <td>...</td>\n",
       "      <td>...</td>\n",
       "    </tr>\n",
       "    <tr>\n",
       "      <th>4961</th>\n",
       "      <td>NaN</td>\n",
       "      <td>4961</td>\n",
       "      <td>/Users/Jon/Developer/workspace/tbi/opendbm/ope...</td>\n",
       "      <td>Pass</td>\n",
       "    </tr>\n",
       "    <tr>\n",
       "      <th>4962</th>\n",
       "      <td>NaN</td>\n",
       "      <td>4962</td>\n",
       "      <td>/Users/Jon/Developer/workspace/tbi/opendbm/ope...</td>\n",
       "      <td>Pass</td>\n",
       "    </tr>\n",
       "    <tr>\n",
       "      <th>4963</th>\n",
       "      <td>NaN</td>\n",
       "      <td>4963</td>\n",
       "      <td>/Users/Jon/Developer/workspace/tbi/opendbm/ope...</td>\n",
       "      <td>Pass</td>\n",
       "    </tr>\n",
       "    <tr>\n",
       "      <th>4964</th>\n",
       "      <td>NaN</td>\n",
       "      <td>4964</td>\n",
       "      <td>/Users/Jon/Developer/workspace/tbi/opendbm/ope...</td>\n",
       "      <td>Pass</td>\n",
       "    </tr>\n",
       "    <tr>\n",
       "      <th>4965</th>\n",
       "      <td>NaN</td>\n",
       "      <td>4965</td>\n",
       "      <td>/Users/Jon/Developer/workspace/tbi/opendbm/ope...</td>\n",
       "      <td>Pass</td>\n",
       "    </tr>\n",
       "  </tbody>\n",
       "</table>\n",
       "<p>4966 rows × 4 columns</p>\n",
       "</div>"
      ],
      "text/plain": [
       "      aco_hnr  Frames                                     dbm_master_url  \\\n",
       "0         NaN       0  /Users/Jon/Developer/workspace/tbi/opendbm/ope...   \n",
       "1         NaN       1  /Users/Jon/Developer/workspace/tbi/opendbm/ope...   \n",
       "2         NaN       2  /Users/Jon/Developer/workspace/tbi/opendbm/ope...   \n",
       "3         NaN       3  /Users/Jon/Developer/workspace/tbi/opendbm/ope...   \n",
       "4         NaN       4  /Users/Jon/Developer/workspace/tbi/opendbm/ope...   \n",
       "...       ...     ...                                                ...   \n",
       "4961      NaN    4961  /Users/Jon/Developer/workspace/tbi/opendbm/ope...   \n",
       "4962      NaN    4962  /Users/Jon/Developer/workspace/tbi/opendbm/ope...   \n",
       "4963      NaN    4963  /Users/Jon/Developer/workspace/tbi/opendbm/ope...   \n",
       "4964      NaN    4964  /Users/Jon/Developer/workspace/tbi/opendbm/ope...   \n",
       "4965      NaN    4965  /Users/Jon/Developer/workspace/tbi/opendbm/ope...   \n",
       "\n",
       "     error_reason  \n",
       "0            Pass  \n",
       "1            Pass  \n",
       "2            Pass  \n",
       "3            Pass  \n",
       "4            Pass  \n",
       "...           ...  \n",
       "4961         Pass  \n",
       "4962         Pass  \n",
       "4963         Pass  \n",
       "4964         Pass  \n",
       "4965         Pass  \n",
       "\n",
       "[4966 rows x 4 columns]"
      ]
     },
     "execution_count": 22,
     "metadata": {},
     "output_type": "execute_result"
    }
   ],
   "source": [
    "hnr  = m.get_harmonic_noise()\n",
    "hnr.to_dataframe()"
   ]
  },
  {
   "cell_type": "code",
   "execution_count": 23,
   "id": "3314007c",
   "metadata": {},
   "outputs": [
    {
     "data": {
      "text/plain": [
       "aco_hnr   -0.668766\n",
       "dtype: float64"
      ]
     },
     "execution_count": 23,
     "metadata": {},
     "output_type": "execute_result"
    }
   ],
   "source": [
    "hnr.mean()"
   ]
  },
  {
   "cell_type": "code",
   "execution_count": 24,
   "id": "38882465",
   "metadata": {},
   "outputs": [
    {
     "data": {
      "text/plain": [
       "aco_hnr    6.283761\n",
       "dtype: float64"
      ]
     },
     "execution_count": 24,
     "metadata": {},
     "output_type": "execute_result"
    }
   ],
   "source": [
    "hnr.std()"
   ]
  },
  {
   "cell_type": "code",
   "execution_count": 25,
   "id": "3494f804",
   "metadata": {},
   "outputs": [
    {
     "data": {
      "text/html": [
       "<div>\n",
       "<style scoped>\n",
       "    .dataframe tbody tr th:only-of-type {\n",
       "        vertical-align: middle;\n",
       "    }\n",
       "\n",
       "    .dataframe tbody tr th {\n",
       "        vertical-align: top;\n",
       "    }\n",
       "\n",
       "    .dataframe thead th {\n",
       "        text-align: right;\n",
       "    }\n",
       "</style>\n",
       "<table border=\"1\" class=\"dataframe\">\n",
       "  <thead>\n",
       "    <tr style=\"text-align: right;\">\n",
       "      <th></th>\n",
       "      <th>aco_fm1</th>\n",
       "      <th>aco_fm2</th>\n",
       "      <th>aco_fm3</th>\n",
       "      <th>aco_fm4</th>\n",
       "      <th>error_reason</th>\n",
       "      <th>Frames</th>\n",
       "      <th>dbm_master_url</th>\n",
       "    </tr>\n",
       "  </thead>\n",
       "  <tbody>\n",
       "    <tr>\n",
       "      <th>0</th>\n",
       "      <td>NaN</td>\n",
       "      <td>NaN</td>\n",
       "      <td>NaN</td>\n",
       "      <td>NaN</td>\n",
       "      <td>Pass</td>\n",
       "      <td>0</td>\n",
       "      <td>/Users/Jon/Developer/workspace/tbi/opendbm/ope...</td>\n",
       "    </tr>\n",
       "    <tr>\n",
       "      <th>1</th>\n",
       "      <td>NaN</td>\n",
       "      <td>NaN</td>\n",
       "      <td>NaN</td>\n",
       "      <td>NaN</td>\n",
       "      <td>Pass</td>\n",
       "      <td>1</td>\n",
       "      <td>/Users/Jon/Developer/workspace/tbi/opendbm/ope...</td>\n",
       "    </tr>\n",
       "    <tr>\n",
       "      <th>2</th>\n",
       "      <td>NaN</td>\n",
       "      <td>NaN</td>\n",
       "      <td>NaN</td>\n",
       "      <td>NaN</td>\n",
       "      <td>Pass</td>\n",
       "      <td>2</td>\n",
       "      <td>/Users/Jon/Developer/workspace/tbi/opendbm/ope...</td>\n",
       "    </tr>\n",
       "    <tr>\n",
       "      <th>3</th>\n",
       "      <td>NaN</td>\n",
       "      <td>NaN</td>\n",
       "      <td>NaN</td>\n",
       "      <td>NaN</td>\n",
       "      <td>Pass</td>\n",
       "      <td>3</td>\n",
       "      <td>/Users/Jon/Developer/workspace/tbi/opendbm/ope...</td>\n",
       "    </tr>\n",
       "    <tr>\n",
       "      <th>4</th>\n",
       "      <td>NaN</td>\n",
       "      <td>NaN</td>\n",
       "      <td>NaN</td>\n",
       "      <td>NaN</td>\n",
       "      <td>Pass</td>\n",
       "      <td>4</td>\n",
       "      <td>/Users/Jon/Developer/workspace/tbi/opendbm/ope...</td>\n",
       "    </tr>\n",
       "    <tr>\n",
       "      <th>...</th>\n",
       "      <td>...</td>\n",
       "      <td>...</td>\n",
       "      <td>...</td>\n",
       "      <td>...</td>\n",
       "      <td>...</td>\n",
       "      <td>...</td>\n",
       "      <td>...</td>\n",
       "    </tr>\n",
       "    <tr>\n",
       "      <th>4964</th>\n",
       "      <td>866.606512</td>\n",
       "      <td>2008.699254</td>\n",
       "      <td>2861.235021</td>\n",
       "      <td>4045.568591</td>\n",
       "      <td>Pass</td>\n",
       "      <td>4964</td>\n",
       "      <td>/Users/Jon/Developer/workspace/tbi/opendbm/ope...</td>\n",
       "    </tr>\n",
       "    <tr>\n",
       "      <th>4965</th>\n",
       "      <td>874.661040</td>\n",
       "      <td>1994.873464</td>\n",
       "      <td>2903.789001</td>\n",
       "      <td>4109.787584</td>\n",
       "      <td>Pass</td>\n",
       "      <td>4965</td>\n",
       "      <td>/Users/Jon/Developer/workspace/tbi/opendbm/ope...</td>\n",
       "    </tr>\n",
       "    <tr>\n",
       "      <th>4966</th>\n",
       "      <td>881.650335</td>\n",
       "      <td>1979.011524</td>\n",
       "      <td>2927.158220</td>\n",
       "      <td>4180.676927</td>\n",
       "      <td>Pass</td>\n",
       "      <td>4966</td>\n",
       "      <td>/Users/Jon/Developer/workspace/tbi/opendbm/ope...</td>\n",
       "    </tr>\n",
       "    <tr>\n",
       "      <th>4967</th>\n",
       "      <td>NaN</td>\n",
       "      <td>NaN</td>\n",
       "      <td>NaN</td>\n",
       "      <td>NaN</td>\n",
       "      <td>Pass</td>\n",
       "      <td>4967</td>\n",
       "      <td>/Users/Jon/Developer/workspace/tbi/opendbm/ope...</td>\n",
       "    </tr>\n",
       "    <tr>\n",
       "      <th>4968</th>\n",
       "      <td>NaN</td>\n",
       "      <td>NaN</td>\n",
       "      <td>NaN</td>\n",
       "      <td>NaN</td>\n",
       "      <td>Pass</td>\n",
       "      <td>4968</td>\n",
       "      <td>/Users/Jon/Developer/workspace/tbi/opendbm/ope...</td>\n",
       "    </tr>\n",
       "  </tbody>\n",
       "</table>\n",
       "<p>4969 rows × 7 columns</p>\n",
       "</div>"
      ],
      "text/plain": [
       "         aco_fm1      aco_fm2      aco_fm3      aco_fm4 error_reason  Frames  \\\n",
       "0            NaN          NaN          NaN          NaN         Pass       0   \n",
       "1            NaN          NaN          NaN          NaN         Pass       1   \n",
       "2            NaN          NaN          NaN          NaN         Pass       2   \n",
       "3            NaN          NaN          NaN          NaN         Pass       3   \n",
       "4            NaN          NaN          NaN          NaN         Pass       4   \n",
       "...          ...          ...          ...          ...          ...     ...   \n",
       "4964  866.606512  2008.699254  2861.235021  4045.568591         Pass    4964   \n",
       "4965  874.661040  1994.873464  2903.789001  4109.787584         Pass    4965   \n",
       "4966  881.650335  1979.011524  2927.158220  4180.676927         Pass    4966   \n",
       "4967         NaN          NaN          NaN          NaN         Pass    4967   \n",
       "4968         NaN          NaN          NaN          NaN         Pass    4968   \n",
       "\n",
       "                                         dbm_master_url  \n",
       "0     /Users/Jon/Developer/workspace/tbi/opendbm/ope...  \n",
       "1     /Users/Jon/Developer/workspace/tbi/opendbm/ope...  \n",
       "2     /Users/Jon/Developer/workspace/tbi/opendbm/ope...  \n",
       "3     /Users/Jon/Developer/workspace/tbi/opendbm/ope...  \n",
       "4     /Users/Jon/Developer/workspace/tbi/opendbm/ope...  \n",
       "...                                                 ...  \n",
       "4964  /Users/Jon/Developer/workspace/tbi/opendbm/ope...  \n",
       "4965  /Users/Jon/Developer/workspace/tbi/opendbm/ope...  \n",
       "4966  /Users/Jon/Developer/workspace/tbi/opendbm/ope...  \n",
       "4967  /Users/Jon/Developer/workspace/tbi/opendbm/ope...  \n",
       "4968  /Users/Jon/Developer/workspace/tbi/opendbm/ope...  \n",
       "\n",
       "[4969 rows x 7 columns]"
      ]
     },
     "execution_count": 25,
     "metadata": {},
     "output_type": "execute_result"
    }
   ],
   "source": [
    "ff  = m.get_formant_frequency()\n",
    "ff.to_dataframe()"
   ]
  },
  {
   "cell_type": "code",
   "execution_count": 26,
   "id": "f02bd94c",
   "metadata": {},
   "outputs": [
    {
     "data": {
      "text/plain": [
       "aco_fm1     769.879045\n",
       "aco_fm2    1860.056469\n",
       "aco_fm3    2828.488673\n",
       "aco_fm4    4063.592980\n",
       "dtype: float64"
      ]
     },
     "execution_count": 26,
     "metadata": {},
     "output_type": "execute_result"
    }
   ],
   "source": [
    "ff.mean()"
   ]
  },
  {
   "cell_type": "code",
   "execution_count": 27,
   "id": "05e58944",
   "metadata": {},
   "outputs": [
    {
     "data": {
      "text/plain": [
       "aco_fm1    279.143637\n",
       "aco_fm2    341.636625\n",
       "aco_fm3    438.579781\n",
       "aco_fm4    437.474388\n",
       "dtype: float64"
      ]
     },
     "execution_count": 27,
     "metadata": {},
     "output_type": "execute_result"
    }
   ],
   "source": [
    "ff.std()"
   ]
  },
  {
   "cell_type": "code",
   "execution_count": 28,
   "id": "dac13186",
   "metadata": {},
   "outputs": [
    {
     "data": {
      "text/html": [
       "<div>\n",
       "<style scoped>\n",
       "    .dataframe tbody tr th:only-of-type {\n",
       "        vertical-align: middle;\n",
       "    }\n",
       "\n",
       "    .dataframe tbody tr th {\n",
       "        vertical-align: top;\n",
       "    }\n",
       "\n",
       "    .dataframe thead th {\n",
       "        text-align: right;\n",
       "    }\n",
       "</style>\n",
       "<table border=\"1\" class=\"dataframe\">\n",
       "  <thead>\n",
       "    <tr style=\"text-align: right;\">\n",
       "      <th></th>\n",
       "      <th>aco_ff</th>\n",
       "      <th>Frames</th>\n",
       "      <th>aco_voicelabel</th>\n",
       "      <th>error_reason</th>\n",
       "      <th>dbm_master_url</th>\n",
       "    </tr>\n",
       "  </thead>\n",
       "  <tbody>\n",
       "    <tr>\n",
       "      <th>0</th>\n",
       "      <td>0.0</td>\n",
       "      <td>0</td>\n",
       "      <td>no</td>\n",
       "      <td>Pass</td>\n",
       "      <td>/Users/Jon/Developer/workspace/tbi/opendbm/ope...</td>\n",
       "    </tr>\n",
       "    <tr>\n",
       "      <th>1</th>\n",
       "      <td>0.0</td>\n",
       "      <td>1</td>\n",
       "      <td>no</td>\n",
       "      <td>Pass</td>\n",
       "      <td>/Users/Jon/Developer/workspace/tbi/opendbm/ope...</td>\n",
       "    </tr>\n",
       "    <tr>\n",
       "      <th>2</th>\n",
       "      <td>0.0</td>\n",
       "      <td>2</td>\n",
       "      <td>no</td>\n",
       "      <td>Pass</td>\n",
       "      <td>/Users/Jon/Developer/workspace/tbi/opendbm/ope...</td>\n",
       "    </tr>\n",
       "    <tr>\n",
       "      <th>3</th>\n",
       "      <td>0.0</td>\n",
       "      <td>3</td>\n",
       "      <td>no</td>\n",
       "      <td>Pass</td>\n",
       "      <td>/Users/Jon/Developer/workspace/tbi/opendbm/ope...</td>\n",
       "    </tr>\n",
       "    <tr>\n",
       "      <th>4</th>\n",
       "      <td>0.0</td>\n",
       "      <td>4</td>\n",
       "      <td>no</td>\n",
       "      <td>Pass</td>\n",
       "      <td>/Users/Jon/Developer/workspace/tbi/opendbm/ope...</td>\n",
       "    </tr>\n",
       "    <tr>\n",
       "      <th>...</th>\n",
       "      <td>...</td>\n",
       "      <td>...</td>\n",
       "      <td>...</td>\n",
       "      <td>...</td>\n",
       "      <td>...</td>\n",
       "    </tr>\n",
       "    <tr>\n",
       "      <th>4948</th>\n",
       "      <td>0.0</td>\n",
       "      <td>4948</td>\n",
       "      <td>no</td>\n",
       "      <td>Pass</td>\n",
       "      <td>/Users/Jon/Developer/workspace/tbi/opendbm/ope...</td>\n",
       "    </tr>\n",
       "    <tr>\n",
       "      <th>4949</th>\n",
       "      <td>0.0</td>\n",
       "      <td>4949</td>\n",
       "      <td>no</td>\n",
       "      <td>Pass</td>\n",
       "      <td>/Users/Jon/Developer/workspace/tbi/opendbm/ope...</td>\n",
       "    </tr>\n",
       "    <tr>\n",
       "      <th>4950</th>\n",
       "      <td>0.0</td>\n",
       "      <td>4950</td>\n",
       "      <td>no</td>\n",
       "      <td>Pass</td>\n",
       "      <td>/Users/Jon/Developer/workspace/tbi/opendbm/ope...</td>\n",
       "    </tr>\n",
       "    <tr>\n",
       "      <th>4951</th>\n",
       "      <td>0.0</td>\n",
       "      <td>4951</td>\n",
       "      <td>no</td>\n",
       "      <td>Pass</td>\n",
       "      <td>/Users/Jon/Developer/workspace/tbi/opendbm/ope...</td>\n",
       "    </tr>\n",
       "    <tr>\n",
       "      <th>4952</th>\n",
       "      <td>0.0</td>\n",
       "      <td>4952</td>\n",
       "      <td>no</td>\n",
       "      <td>Pass</td>\n",
       "      <td>/Users/Jon/Developer/workspace/tbi/opendbm/ope...</td>\n",
       "    </tr>\n",
       "  </tbody>\n",
       "</table>\n",
       "<p>4953 rows × 5 columns</p>\n",
       "</div>"
      ],
      "text/plain": [
       "      aco_ff  Frames aco_voicelabel error_reason  \\\n",
       "0        0.0       0             no         Pass   \n",
       "1        0.0       1             no         Pass   \n",
       "2        0.0       2             no         Pass   \n",
       "3        0.0       3             no         Pass   \n",
       "4        0.0       4             no         Pass   \n",
       "...      ...     ...            ...          ...   \n",
       "4948     0.0    4948             no         Pass   \n",
       "4949     0.0    4949             no         Pass   \n",
       "4950     0.0    4950             no         Pass   \n",
       "4951     0.0    4951             no         Pass   \n",
       "4952     0.0    4952             no         Pass   \n",
       "\n",
       "                                         dbm_master_url  \n",
       "0     /Users/Jon/Developer/workspace/tbi/opendbm/ope...  \n",
       "1     /Users/Jon/Developer/workspace/tbi/opendbm/ope...  \n",
       "2     /Users/Jon/Developer/workspace/tbi/opendbm/ope...  \n",
       "3     /Users/Jon/Developer/workspace/tbi/opendbm/ope...  \n",
       "4     /Users/Jon/Developer/workspace/tbi/opendbm/ope...  \n",
       "...                                                 ...  \n",
       "4948  /Users/Jon/Developer/workspace/tbi/opendbm/ope...  \n",
       "4949  /Users/Jon/Developer/workspace/tbi/opendbm/ope...  \n",
       "4950  /Users/Jon/Developer/workspace/tbi/opendbm/ope...  \n",
       "4951  /Users/Jon/Developer/workspace/tbi/opendbm/ope...  \n",
       "4952  /Users/Jon/Developer/workspace/tbi/opendbm/ope...  \n",
       "\n",
       "[4953 rows x 5 columns]"
      ]
     },
     "execution_count": 28,
     "metadata": {},
     "output_type": "execute_result"
    }
   ],
   "source": [
    "pf  = m.get_pitch_frequency()\n",
    "pf.to_dataframe()"
   ]
  },
  {
   "cell_type": "code",
   "execution_count": 29,
   "id": "8af4d4ce",
   "metadata": {},
   "outputs": [
    {
     "data": {
      "text/plain": [
       "aco_ff    20.139863\n",
       "dtype: float64"
      ]
     },
     "execution_count": 29,
     "metadata": {},
     "output_type": "execute_result"
    }
   ],
   "source": [
    "pf.mean()"
   ]
  },
  {
   "cell_type": "code",
   "execution_count": 30,
   "id": "0226e970",
   "metadata": {},
   "outputs": [
    {
     "data": {
      "text/plain": [
       "aco_ff    53.386741\n",
       "dtype: float64"
      ]
     },
     "execution_count": 30,
     "metadata": {},
     "output_type": "execute_result"
    }
   ],
   "source": [
    "pf.std()"
   ]
  }
 ],
 "metadata": {
  "interpreter": {
   "hash": "0a0e44195be68653f7e334a84fc9cfe05cd3afcecde689e63b77e3df05870396"
  },
  "kernelspec": {
   "display_name": "Python 3",
   "language": "python",
   "name": "python3"
  },
  "language_info": {
   "codemirror_mode": {
    "name": "ipython",
    "version": 3
   },
   "file_extension": ".py",
   "mimetype": "text/x-python",
   "name": "python",
   "nbconvert_exporter": "python",
   "pygments_lexer": "ipython3",
   "version": "3.6.8"
  }
 },
 "nbformat": 4,
 "nbformat_minor": 5
}
