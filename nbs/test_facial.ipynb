{
 "cells": [
  {
   "cell_type": "code",
   "execution_count": null,
   "id": "83f351d1",
   "metadata": {},
   "outputs": [],
   "source": [
    "import sys\n",
    "sys.path.append('../')"
   ]
  },
  {
   "cell_type": "code",
   "execution_count": null,
   "id": "8022874e",
   "metadata": {},
   "outputs": [],
   "source": [
    "path1 = \"/Users/Jon/Developer/workspace/tbi/opendbm/open_dbm/sample_data/subj02_timepoint01.mp4\""
   ]
  },
  {
   "cell_type": "code",
   "execution_count": null,
   "id": "a58864d1",
   "metadata": {},
   "outputs": [],
   "source": [
    "from opendbm.facial_activity import FacialActivity"
   ]
  },
  {
   "cell_type": "code",
   "execution_count": null,
   "id": "d4b48f01",
   "metadata": {},
   "outputs": [],
   "source": [
    "m = FacialActivity()"
   ]
  },
  {
   "cell_type": "code",
   "execution_count": null,
   "id": "a2837062",
   "metadata": {},
   "outputs": [],
   "source": [
    "m.fit(path1)"
   ]
  },
  {
   "cell_type": "code",
   "execution_count": null,
   "id": "6f85db85",
   "metadata": {},
   "outputs": [],
   "source": [
    "landmark = m.get_landmark()\n",
    "landmark.to_dataframe()"
   ]
  },
  {
   "cell_type": "code",
   "execution_count": null,
   "id": "1765c057",
   "metadata": {},
   "outputs": [],
   "source": [
    "landmark.mean()"
   ]
  },
  {
   "cell_type": "code",
   "execution_count": null,
   "id": "558aaddb",
   "metadata": {},
   "outputs": [],
   "source": [
    "landmark.std()"
   ]
  },
  {
   "cell_type": "code",
   "execution_count": null,
   "id": "7a85b072",
   "metadata": {},
   "outputs": [],
   "source": [
    "au = m.get_action_unit()\n",
    "au.to_dataframe()"
   ]
  },
  {
   "cell_type": "code",
   "execution_count": null,
   "id": "0e8ba97a",
   "metadata": {},
   "outputs": [],
   "source": [
    "au.mean()"
   ]
  },
  {
   "cell_type": "code",
   "execution_count": null,
   "id": "edfdfcb6",
   "metadata": {},
   "outputs": [],
   "source": [
    "au.std()"
   ]
  },
  {
   "cell_type": "code",
   "execution_count": null,
   "id": "100b6f0b",
   "metadata": {},
   "outputs": [],
   "source": [
    "asym = m.get_asymmetry()\n",
    "asym.to_dataframe()"
   ]
  },
  {
   "cell_type": "code",
   "execution_count": null,
   "id": "09c1e6a5",
   "metadata": {},
   "outputs": [],
   "source": [
    "asym.mean()"
   ]
  },
  {
   "cell_type": "code",
   "execution_count": null,
   "id": "a0cf9016",
   "metadata": {},
   "outputs": [],
   "source": [
    "asym.std()"
   ]
  },
  {
   "cell_type": "code",
   "execution_count": null,
   "id": "408bce1e",
   "metadata": {},
   "outputs": [],
   "source": [
    "expr = m.get_expressivity()\n",
    "expr.to_dataframe()"
   ]
  },
  {
   "cell_type": "code",
   "execution_count": null,
   "id": "bd6142b2",
   "metadata": {},
   "outputs": [],
   "source": [
    "expr.mean()"
   ]
  },
  {
   "cell_type": "code",
   "execution_count": null,
   "id": "959786b9",
   "metadata": {},
   "outputs": [],
   "source": [
    "expr.std()"
   ]
  }
 ],
 "metadata": {
  "interpreter": {
   "hash": "0a0e44195be68653f7e334a84fc9cfe05cd3afcecde689e63b77e3df05870396"
  },
  "kernelspec": {
   "display_name": "Python 3 (ipykernel)",
   "language": "python",
   "name": "python3"
  },
  "language_info": {
   "codemirror_mode": {
    "name": "ipython",
    "version": 3
   },
   "file_extension": ".py",
   "mimetype": "text/x-python",
   "name": "python",
   "nbconvert_exporter": "python",
   "pygments_lexer": "ipython3",
   "version": "3.8.13"
  }
 },
 "nbformat": 4,
 "nbformat_minor": 5
}
