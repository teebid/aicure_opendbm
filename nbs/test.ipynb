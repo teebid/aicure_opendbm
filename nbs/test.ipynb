{
 "cells": [
  {
   "cell_type": "code",
   "execution_count": 7,
   "id": "e344410b",
   "metadata": {},
   "outputs": [],
   "source": [
    "import sys\n",
    "sys.path.append(\"..\")"
   ]
  },
  {
   "cell_type": "code",
   "execution_count": 8,
   "id": "1aef9557",
   "metadata": {},
   "outputs": [],
   "source": [
    "from opendbm.tests import TestClass"
   ]
  },
  {
   "cell_type": "code",
   "execution_count": 2,
   "id": "8b7eb884",
   "metadata": {},
   "outputs": [
    {
     "data": {
      "text/plain": [
       "'/Users/Jon/Developer/workspace/tbi/opendbm/aicure_opendbm/nbs'"
      ]
     },
     "execution_count": 2,
     "metadata": {},
     "output_type": "execute_result"
    }
   ],
   "source": [
    "loader = DataLoader(input_p, output_p)"
   ]
  },
  {
   "cell_type": "code",
   "execution_count": null,
   "id": "f4eadea7",
   "metadata": {},
   "outputs": [],
   "source": [
    "from opendbm.facial import Speech"
   ]
  },
  {
   "cell_type": "code",
   "execution_count": null,
   "id": "33f18468",
   "metadata": {},
   "outputs": [],
   "source": [
    "# gives warning that the model required isn't downloaded yet\n",
    "# Requires internet\n",
    "model = Speech()"
   ]
  },
  {
   "cell_type": "code",
   "execution_count": null,
   "id": "16ba588f",
   "metadata": {},
   "outputs": [],
   "source": [
    "pipeline = Pipeline(loader, model)\n",
    "pipeline.run()"
   ]
  }
 ],
 "metadata": {
  "kernelspec": {
   "display_name": "Python 3",
   "language": "python",
   "name": "python3"
  },
  "language_info": {
   "codemirror_mode": {
    "name": "ipython",
    "version": 3
   },
   "file_extension": ".py",
   "mimetype": "text/x-python",
   "name": "python",
   "nbconvert_exporter": "python",
   "pygments_lexer": "ipython3",
   "version": "3.6.13"
  }
 },
 "nbformat": 4,
 "nbformat_minor": 5
}
