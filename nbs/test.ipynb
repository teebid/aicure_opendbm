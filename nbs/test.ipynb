{
 "cells": [
  {
   "cell_type": "raw",
   "id": "2a559d9c",
   "metadata": {},
   "source": [
    "import sys\n",
    "sys.path.append(\"..\")"
   ]
  },
  {
   "cell_type": "code",
   "execution_count": 8,
   "id": "cb9b7fa2",
   "metadata": {},
   "outputs": [],
   "source": [
    "from opendbm.tests import TestClass"
   ]
  },
  {
   "cell_type": "code",
   "execution_count": 2,
   "id": "ecabb380",
   "metadata": {},
   "outputs": [
    {
     "data": {
      "text/plain": [
       "'/Users/Jon/Developer/workspace/tbi/opendbm/aicure_opendbm/nbs'"
      ]
     },
     "execution_count": 2,
     "metadata": {},
     "output_type": "execute_result"
    }
   ],
   "source": []
  },
  {
   "cell_type": "code",
   "execution_count": null,
   "id": "eca0f170",
   "metadata": {},
   "outputs": [],
   "source": [
    "from opendbm.facial import Speech"
   ]
  },
  {
   "cell_type": "markdown",
   "id": "ded74ddb",
   "metadata": {},
   "source": [
    "### Without Pipeline"
   ]
  },
  {
   "cell_type": "code",
   "execution_count": null,
   "id": "716f286c",
   "metadata": {},
   "outputs": [],
   "source": [
    "# gives warning that the model required isn't downloaded yet\n",
    "# Requires internet\n",
    "model = Speech()"
   ]
  },
  {
   "cell_type": "code",
   "execution_count": null,
   "id": "5a9eb959",
   "metadata": {},
   "outputs": [],
   "source": [
    "loader = DataLoader(input_p, output_p)"
   ]
  },
  {
   "cell_type": "code",
   "execution_count": null,
   "id": "c4860d6e",
   "metadata": {},
   "outputs": [],
   "source": [
    "model.transform(loader)"
   ]
  },
  {
   "cell_type": "code",
   "execution_count": null,
   "id": "a0895cef",
   "metadata": {},
   "outputs": [],
   "source": [
    "loader.convert()\n",
    "\n",
    "loader.preprocess()\n",
    "\n",
    "model.process()\n",
    "\n",
    "loader.postprocess()"
   ]
  },
  {
   "cell_type": "markdown",
   "id": "b992b32b",
   "metadata": {},
   "source": [
    "### Using Pipeline"
   ]
  },
  {
   "cell_type": "code",
   "execution_count": null,
   "id": "d00148b5",
   "metadata": {},
   "outputs": [],
   "source": [
    "# Typical pipe"
   ]
  },
  {
   "cell_type": "code",
   "execution_count": null,
   "id": "51b68f79",
   "metadata": {},
   "outputs": [],
   "source": [
    "pipeline = Pipeline(loader, model)\n",
    "pipeline.run()"
   ]
  },
  {
   "cell_type": "code",
   "execution_count": null,
   "id": "3086525d",
   "metadata": {},
   "outputs": [],
   "source": [
    "loader = DataLoader(input_p, output_p)"
   ]
  },
  {
   "cell_type": "code",
   "execution_count": null,
   "id": "39c7591e",
   "metadata": {},
   "outputs": [],
   "source": [
    "model = Speech()"
   ]
  },
  {
   "cell_type": "code",
   "execution_count": null,
   "id": "61cbc946",
   "metadata": {},
   "outputs": [],
   "source": [
    "model"
   ]
  }
 ],
 "metadata": {
  "kernelspec": {
   "display_name": "Python 3",
   "language": "python",
   "name": "python3"
  },
  "language_info": {
   "codemirror_mode": {
    "name": "ipython",
    "version": 3
   },
   "file_extension": ".py",
   "mimetype": "text/x-python",
   "name": "python",
   "nbconvert_exporter": "python",
   "pygments_lexer": "ipython3",
   "version": "3.6.13"
  }
 },
 "nbformat": 4,
 "nbformat_minor": 5
}
