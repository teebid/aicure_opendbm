{
 "cells": [
  {
   "cell_type": "code",
   "execution_count": 1,
   "id": "83f351d1",
   "metadata": {},
   "outputs": [],
   "source": [
    "import sys\n",
    "sys.path.append('../')"
   ]
  },
  {
   "cell_type": "code",
   "execution_count": 2,
   "id": "8022874e",
   "metadata": {},
   "outputs": [],
   "source": [
    "path1 = \"/Users/Jon/Developer/workspace/tbi/opendbm/open_dbm/sample_data/subj02_timepoint01.mp4\"\n",
    "path2 = \"/Users/Jon/Developer/workspace/tbi/opendbm/open_dbm/sample_data/subj02_timepoint01.wav\"\n",
    "path3 = \"/Users/Jon/Developer/workspace/tbi/opendbm/open_dbm/sample_data/subj01_timepoint02.wav\"\n",
    "path4 = '/Users/Jon/Developer/workspace/tbi/opendbm/aicure_opendbm/nbs/audio/2830-3980-0043.wav'\n",
    "\n"
   ]
  },
  {
   "cell_type": "code",
   "execution_count": 3,
   "id": "73cef9dc",
   "metadata": {},
   "outputs": [],
   "source": [
    "path1 = \"../sample_data/opendbmfacialtest_v1.mp4\"\n",
    "path4 = f\"{path1[:-4]}.wav\""
   ]
  },
  {
   "cell_type": "code",
   "execution_count": null,
   "id": "9a216b3e",
   "metadata": {},
   "outputs": [],
   "source": []
  },
  {
   "cell_type": "code",
   "execution_count": null,
   "id": "bc70c164",
   "metadata": {},
   "outputs": [],
   "source": []
  },
  {
   "cell_type": "code",
   "execution_count": 4,
   "id": "aa13f278",
   "metadata": {},
   "outputs": [
    {
     "name": "stderr",
     "output_type": "stream",
     "text": [
      "WARNING:py.warnings:../dbm_lib/config/config_reader.py:26: YAMLLoadWarning: calling yaml.load() without Loader=... is deprecated, as the default Loader is unsafe. Please read https://msg.pyyaml.org/load for full details.\n",
      "  config = yaml.load(ymlfile)\n",
      "\n",
      "WARNING:py.warnings:../dbm_lib/config/config_raw_feature.py:27: YAMLLoadWarning: calling yaml.load() without Loader=... is deprecated, as the default Loader is unsafe. Please read https://msg.pyyaml.org/load for full details.\n",
      "  config = yaml.load(ymlfile)\n",
      "\n",
      "WARNING:py.warnings:../dbm_lib/config/config_derive_feature.py:27: YAMLLoadWarning: calling yaml.load() without Loader=... is deprecated, as the default Loader is unsafe. Please read https://msg.pyyaml.org/load for full details.\n",
      "  config = yaml.load(ymlfile)\n",
      "\n",
      "INFO:root:Deepspeech output...... <subprocess.Popen object at 0x7fa369dce390>\n",
      "INFO:root:Saving Output file ./opendbmfacialtest_v1 \n",
      "INFO:root:averaged_perceptron_tagger is not available\n",
      "[nltk_data] Downloading package averaged_perceptron_tagger to\n",
      "[nltk_data]     /Users/jordinapitupulu/nltk_data...\n",
      "[nltk_data]   Package averaged_perceptron_tagger is already up-to-\n",
      "[nltk_data]       date!\n"
     ]
    }
   ],
   "source": [
    "from opendbm.speech import Speech\n",
    "m = Speech()\n",
    "m.fit(path4)"
   ]
  },
  {
   "cell_type": "code",
   "execution_count": 16,
   "id": "68f15d69",
   "metadata": {},
   "outputs": [],
   "source": [
    "transcribe = m.get_transcribe()"
   ]
  },
  {
   "cell_type": "code",
   "execution_count": 17,
   "id": "379f7648",
   "metadata": {},
   "outputs": [
    {
     "data": {
      "text/html": [
       "<div>\n",
       "<style scoped>\n",
       "    .dataframe tbody tr th:only-of-type {\n",
       "        vertical-align: middle;\n",
       "    }\n",
       "\n",
       "    .dataframe tbody tr th {\n",
       "        vertical-align: top;\n",
       "    }\n",
       "\n",
       "    .dataframe thead th {\n",
       "        text-align: right;\n",
       "    }\n",
       "</style>\n",
       "<table border=\"1\" class=\"dataframe\">\n",
       "  <thead>\n",
       "    <tr style=\"text-align: right;\">\n",
       "      <th></th>\n",
       "      <th>nlp_transcribe</th>\n",
       "      <th>nlp_totalTime</th>\n",
       "      <th>error_reason</th>\n",
       "      <th>dbm_master_url</th>\n",
       "    </tr>\n",
       "  </thead>\n",
       "  <tbody>\n",
       "    <tr>\n",
       "      <th>0</th>\n",
       "      <td>this is a self for opening them to the region ...</td>\n",
       "      <td>87.978685</td>\n",
       "      <td>Pass</td>\n",
       "      <td>/Users/jordinapitupulu/PycharmProjects/aicure_...</td>\n",
       "    </tr>\n",
       "  </tbody>\n",
       "</table>\n",
       "</div>"
      ],
      "text/plain": [
       "                                      nlp_transcribe  nlp_totalTime  \\\n",
       "0  this is a self for opening them to the region ...      87.978685   \n",
       "\n",
       "  error_reason                                     dbm_master_url  \n",
       "0         Pass  /Users/jordinapitupulu/PycharmProjects/aicure_...  "
      ]
     },
     "execution_count": 17,
     "metadata": {},
     "output_type": "execute_result"
    }
   ],
   "source": [
    "transcribe.to_dataframe()"
   ]
  },
  {
   "cell_type": "code",
   "execution_count": 7,
   "id": "4a3d38cf",
   "metadata": {},
   "outputs": [
    {
     "data": {
      "text/plain": [
       "nlp_transcribe          NaN\n",
       "nlp_totalTime     87.978685\n",
       "dtype: float64"
      ]
     },
     "execution_count": 7,
     "metadata": {},
     "output_type": "execute_result"
    }
   ],
   "source": [
    "transcribe.mean()"
   ]
  },
  {
   "cell_type": "code",
   "execution_count": 7,
   "id": "4982e10f",
   "metadata": {},
   "outputs": [
    {
     "name": "stdout",
     "output_type": "stream",
     "text": [
      "deepspeech-0.9.1-models.pbmm    deepspeech-0.9.1-models.scorer\r\n"
     ]
    }
   ],
   "source": [
    "ls ~/.opendbm"
   ]
  },
  {
   "cell_type": "code",
   "execution_count": 8,
   "id": "4fdab92f",
   "metadata": {},
   "outputs": [
    {
     "data": {
      "text/plain": [
       "nlp_transcribe   NaN\n",
       "nlp_totalTime    NaN\n",
       "dtype: float64"
      ]
     },
     "execution_count": 8,
     "metadata": {},
     "output_type": "execute_result"
    }
   ],
   "source": [
    "transcribe.std()"
   ]
  },
  {
   "cell_type": "code",
   "execution_count": 10,
   "id": "08f5066b",
   "metadata": {},
   "outputs": [],
   "source": [
    "sfeatures = m.get_speech_features()"
   ]
  },
  {
   "cell_type": "code",
   "execution_count": 39,
   "id": "290b5a38",
   "metadata": {},
   "outputs": [
    {
     "data": {
      "text/html": [
       "<div>\n",
       "<style scoped>\n",
       "    .dataframe tbody tr th:only-of-type {\n",
       "        vertical-align: middle;\n",
       "    }\n",
       "\n",
       "    .dataframe tbody tr th {\n",
       "        vertical-align: top;\n",
       "    }\n",
       "\n",
       "    .dataframe thead th {\n",
       "        text-align: right;\n",
       "    }\n",
       "</style>\n",
       "<table border=\"1\" class=\"dataframe\">\n",
       "  <thead>\n",
       "    <tr style=\"text-align: right;\">\n",
       "      <th></th>\n",
       "      <th>nlp_numSentences</th>\n",
       "      <th>nlp_singPronPerAns</th>\n",
       "      <th>nlp_singPronPerSen</th>\n",
       "      <th>nlp_pastTensePerAns</th>\n",
       "      <th>nlp_pastTensePerSen</th>\n",
       "      <th>nlp_pronounsPerAns</th>\n",
       "      <th>nlp_pronounsPerSen</th>\n",
       "      <th>nlp_verbsPerAns</th>\n",
       "      <th>nlp_verbsPerSen</th>\n",
       "      <th>nlp_adjectivesPerAns</th>\n",
       "      <th>nlp_adjectivesPerSen</th>\n",
       "      <th>nlp_nounsPerAns</th>\n",
       "      <th>nlp_nounsPerSen</th>\n",
       "      <th>nlp_sentiment_mean</th>\n",
       "      <th>nlp_mattr</th>\n",
       "      <th>nlp_wordsPerMin</th>\n",
       "      <th>nlp_totalTime</th>\n",
       "      <th>dbm_master_url</th>\n",
       "    </tr>\n",
       "  </thead>\n",
       "  <tbody>\n",
       "    <tr>\n",
       "      <th>0</th>\n",
       "      <td>1</td>\n",
       "      <td>2</td>\n",
       "      <td>2.0</td>\n",
       "      <td>1</td>\n",
       "      <td>1.0</td>\n",
       "      <td>6</td>\n",
       "      <td>6.0</td>\n",
       "      <td>11</td>\n",
       "      <td>11.0</td>\n",
       "      <td>5</td>\n",
       "      <td>5.0</td>\n",
       "      <td>15</td>\n",
       "      <td>15.0</td>\n",
       "      <td>-0.8256</td>\n",
       "      <td>0.088608</td>\n",
       "      <td>38.873052</td>\n",
       "      <td>87.978685</td>\n",
       "      <td>/Users/jordinapitupulu/PycharmProjects/aicure_...</td>\n",
       "    </tr>\n",
       "  </tbody>\n",
       "</table>\n",
       "</div>"
      ],
      "text/plain": [
       "   nlp_numSentences  nlp_singPronPerAns  nlp_singPronPerSen  \\\n",
       "0                 1                   2                 2.0   \n",
       "\n",
       "   nlp_pastTensePerAns  nlp_pastTensePerSen  nlp_pronounsPerAns  \\\n",
       "0                    1                  1.0                   6   \n",
       "\n",
       "   nlp_pronounsPerSen  nlp_verbsPerAns  nlp_verbsPerSen  nlp_adjectivesPerAns  \\\n",
       "0                 6.0               11             11.0                     5   \n",
       "\n",
       "   nlp_adjectivesPerSen  nlp_nounsPerAns  nlp_nounsPerSen  nlp_sentiment_mean  \\\n",
       "0                   5.0               15             15.0             -0.8256   \n",
       "\n",
       "   nlp_mattr  nlp_wordsPerMin  nlp_totalTime  \\\n",
       "0   0.088608        38.873052      87.978685   \n",
       "\n",
       "                                      dbm_master_url  \n",
       "0  /Users/jordinapitupulu/PycharmProjects/aicure_...  "
      ]
     },
     "execution_count": 39,
     "metadata": {},
     "output_type": "execute_result"
    }
   ],
   "source": [
    "sfeatures.to_dataframe()"
   ]
  }
 ],
 "metadata": {
  "interpreter": {
   "hash": "0a0e44195be68653f7e334a84fc9cfe05cd3afcecde689e63b77e3df05870396"
  },
  "kernelspec": {
   "display_name": "Python 3",
   "language": "python",
   "name": "python3"
  },
  "language_info": {
   "codemirror_mode": {
    "name": "ipython",
    "version": 3
   },
   "file_extension": ".py",
   "mimetype": "text/x-python",
   "name": "python",
   "nbconvert_exporter": "python",
   "pygments_lexer": "ipython3",
   "version": "3.6.8"
  }
 },
 "nbformat": 4,
 "nbformat_minor": 5
}
