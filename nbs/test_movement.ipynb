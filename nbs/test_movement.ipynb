{
 "cells": [
  {
   "cell_type": "code",
   "execution_count": null,
   "id": "83f351d1",
   "metadata": {},
   "outputs": [],
   "source": [
    "import sys\n",
    "sys.path.append('../')"
   ]
  },
  {
   "cell_type": "code",
   "execution_count": null,
   "id": "8022874e",
   "metadata": {},
   "outputs": [],
   "source": [
    "path1 = \"/Users/Jon/Developer/workspace/tbi/opendbm/open_dbm/sample_data/subj02_timepoint01.mp4\""
   ]
  },
  {
   "cell_type": "code",
   "execution_count": null,
   "id": "d98b3f6c",
   "metadata": {},
   "outputs": [],
   "source": [
    "from opendbm.movement import Movement"
   ]
  },
  {
   "cell_type": "code",
   "execution_count": null,
   "id": "677351de",
   "metadata": {},
   "outputs": [],
   "source": [
    "m = Movement()"
   ]
  },
  {
   "cell_type": "code",
   "execution_count": null,
   "id": "ed498e17",
   "metadata": {},
   "outputs": [],
   "source": [
    "m.fit(path1)"
   ]
  },
  {
   "cell_type": "code",
   "execution_count": null,
   "id": "a2ddf011",
   "metadata": {},
   "outputs": [],
   "source": [
    "hm  = m.get_head_movement()\n",
    "hm.to_dataframe()"
   ]
  },
  {
   "cell_type": "code",
   "execution_count": null,
   "id": "5658157e",
   "metadata": {},
   "outputs": [],
   "source": [
    "hm.mean()"
   ]
  },
  {
   "cell_type": "code",
   "execution_count": null,
   "id": "b32decf8",
   "metadata": {},
   "outputs": [],
   "source": [
    "hm.std()"
   ]
  },
  {
   "cell_type": "code",
   "execution_count": null,
   "id": "9640b7c0",
   "metadata": {},
   "outputs": [],
   "source": [
    "eb = m.get_eye_blink()\n",
    "eb.to_dataframe()"
   ]
  },
  {
   "cell_type": "code",
   "execution_count": null,
   "id": "5714dcaa",
   "metadata": {},
   "outputs": [],
   "source": [
    "eb.mean()"
   ]
  },
  {
   "cell_type": "code",
   "execution_count": null,
   "id": "bd44a8f6",
   "metadata": {},
   "outputs": [],
   "source": [
    "eb.std()"
   ]
  },
  {
   "cell_type": "code",
   "execution_count": null,
   "id": "242bf127",
   "metadata": {},
   "outputs": [],
   "source": [
    "eg = m.get_eye_gaze()"
   ]
  },
  {
   "cell_type": "code",
   "execution_count": null,
   "id": "47034f2a",
   "metadata": {},
   "outputs": [],
   "source": [
    "eg.mean()"
   ]
  },
  {
   "cell_type": "code",
   "execution_count": null,
   "id": "2d9d3f91",
   "metadata": {},
   "outputs": [],
   "source": [
    "eg.std()"
   ]
  },
  {
   "cell_type": "code",
   "execution_count": null,
   "id": "858abbeb",
   "metadata": {},
   "outputs": [],
   "source": [
    "ft = m.get_facial_tremor()\n",
    "ft.to_dataframe()"
   ]
  },
  {
   "cell_type": "code",
   "execution_count": null,
   "id": "5423d14d",
   "metadata": {},
   "outputs": [],
   "source": [
    "ft.mean()"
   ]
  },
  {
   "cell_type": "code",
   "execution_count": null,
   "id": "5e5b5a97",
   "metadata": {},
   "outputs": [],
   "source": [
    "ft.std()"
   ]
  },
  {
   "cell_type": "code",
   "execution_count": null,
   "id": "c0fe717f",
   "metadata": {},
   "outputs": [],
   "source": [
    "vt = m.get_vocal_tremor()b\n",
    "vt.to_dataframe()"
   ]
  },
  {
   "cell_type": "code",
   "execution_count": null,
   "id": "c4710f67",
   "metadata": {},
   "outputs": [],
   "source": [
    "vt.mean()"
   ]
  },
  {
   "cell_type": "code",
   "execution_count": null,
   "id": "0ee90ce7",
   "metadata": {},
   "outputs": [],
   "source": [
    "vt.std()"
   ]
  },
  {
   "cell_type": "code",
   "execution_count": null,
   "id": "a380fe18",
   "metadata": {},
   "outputs": [],
   "source": []
  },
  {
   "cell_type": "code",
   "execution_count": null,
   "id": "364c7b59",
   "metadata": {},
   "outputs": [],
   "source": []
  }
 ],
 "metadata": {
  "interpreter": {
   "hash": "0a0e44195be68653f7e334a84fc9cfe05cd3afcecde689e63b77e3df05870396"
  },
  "kernelspec": {
   "display_name": "Python 3 (ipykernel)",
   "language": "python",
   "name": "python3"
  },
  "language_info": {
   "codemirror_mode": {
    "name": "ipython",
    "version": 3
   },
   "file_extension": ".py",
   "mimetype": "text/x-python",
   "name": "python",
   "nbconvert_exporter": "python",
   "pygments_lexer": "ipython3",
   "version": "3.8.13"
  }
 },
 "nbformat": 4,
 "nbformat_minor": 5
}
